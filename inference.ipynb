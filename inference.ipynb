{
 "cells": [
  {
   "cell_type": "code",
   "execution_count": null,
   "id": "9ddc1cbe",
   "metadata": {},
   "outputs": [
    {
     "name": "stdout",
     "output_type": "stream",
     "text": [
      "Found 21 image files to process...\n",
      "[1/21] Processing: Lia_1_p3_fig1.jpeg - ✗ Skipped ([std, dab])\n",
      "[2/21] Processing: Lia_1_p5_fig1.jpeg - ✗ Skipped (9)\n",
      "[3/21] Processing: Lia_2_p2_fig1.png"
     ]
    }
   ],
   "source": [
    "import shutil\n",
    "from pathlib import Path\n",
    "from ultralytics import YOLO\n",
    "\n",
    "def classify_images(input_dir='./images', output_dir='./classified_images', model_path='./models/CE_graph_classifier.pt', confidence_threshold=0.5):\n",
    "    classes = ['bar', 'line_1', 'line_2', 'line_3']\n",
    "    \n",
    "    # Load model\n",
    "    model = YOLO(model_path)\n",
    "    input_dir = Path(input_dir)\n",
    "    output_dir = Path(output_dir)\n",
    "    \n",
    "    # Create output folders for each class plus 'others'\n",
    "    for class_name in classes:\n",
    "        (output_dir / class_name).mkdir(parents=True, exist_ok=True)\n",
    "    (output_dir / 'others').mkdir(parents=True, exist_ok=True)\n",
    "    \n",
    "    # Get all image files\n",
    "    image_files = list(input_dir.glob('*.jpg')) + \\\n",
    "                 list(input_dir.glob('*.png')) + \\\n",
    "                 list(input_dir.glob('*.jpeg'))\n",
    "    \n",
    "    if not image_files:\n",
    "        print(f\"No images found in {input_dir}\")\n",
    "        return\n",
    "    \n",
    "    print(f\"Processing {len(image_files)} images...\")\n",
    "    \n",
    "    # Classify and organize\n",
    "    for img_path in image_files:\n",
    "        results = model(img_path)\n",
    "        \n",
    "        for r in results:\n",
    "            probs = r.probs\n",
    "            predicted_class = classes[probs.top1]\n",
    "            confidence = probs.top1conf\n",
    "            \n",
    "            # If confidence is below threshold, classify as 'others'\n",
    "            if confidence < confidence_threshold:\n",
    "                output_path = output_dir / 'others' / img_path.name\n",
    "                shutil.copy2(img_path, output_path)\n",
    "                print(f\"{img_path.name} -> others (low confidence: {confidence:.3f})\")\n",
    "            else:\n",
    "                # Copy image to appropriate folder\n",
    "                output_path = output_dir / predicted_class / img_path.name\n",
    "                shutil.copy2(img_path, output_path)\n",
    "                print(f\"{img_path.name} -> {predicted_class} ({confidence:.3f})\")\n",
    "    \n",
    "    # Print summary\n",
    "    print(\"\\n\" + \"=\"*50)\n",
    "    print(\"Classification complete! Summary:\")\n",
    "    for class_name in classes + ['others']:\n",
    "        count = len(list((output_dir / class_name).glob('*')))\n",
    "        print(f\"  {class_name}: {count} images\")\n",
    "    print(\"=\"*50)\n",
    "\n",
    "if __name__ == \"__main__\":\n",
    "    classify_images(\n",
    "        input_dir='./images',           # Folder containing images to classify\n",
    "        output_dir='./classified_images', # Output folder (will create 5 subfolders)\n",
    "        model_path='./models/CE_graph_classifier.pt',  # Trained model path\n",
    "        confidence_threshold=0.5  # Images with confidence below this go to 'others'\n",
    "    )"
   ]
  },
  {
   "cell_type": "code",
   "execution_count": null,
   "id": "56452751",
   "metadata": {},
   "outputs": [],
   "source": []
  }
 ],
 "metadata": {
  "kernelspec": {
   "display_name": "llm",
   "language": "python",
   "name": "python3"
  },
  "language_info": {
   "codemirror_mode": {
    "name": "ipython",
    "version": 3
   },
   "file_extension": ".py",
   "mimetype": "text/x-python",
   "name": "python",
   "nbconvert_exporter": "python",
   "pygments_lexer": "ipython3",
   "version": "3.12.11"
  }
 },
 "nbformat": 4,
 "nbformat_minor": 5
}
